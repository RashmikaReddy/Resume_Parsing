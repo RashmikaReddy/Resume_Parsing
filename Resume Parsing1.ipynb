{
 "cells": [
  {
   "cell_type": "code",
   "execution_count": 1,
   "metadata": {},
   "outputs": [
    {
     "data": {
      "text/plain": [
       "<module 'ntpath' from 'C:\\\\Users\\\\Satish\\\\Anaconda3\\\\envs\\\\RP\\\\lib\\\\ntpath.py'>"
      ]
     },
     "execution_count": 1,
     "metadata": {},
     "output_type": "execute_result"
    }
   ],
   "source": [
    "import os\n",
    "os.path"
   ]
  },
  {
   "cell_type": "code",
   "execution_count": 7,
   "metadata": {},
   "outputs": [
    {
     "name": "stdout",
     "output_type": "stream",
     "text": [
      "Starting Resume Parsing\n",
      "Email id:\n",
      "\t <_sre.SRE_Match object; span=(337, 359), match='vslathareddy@yahoo.com'>\n",
      "Phone Number:\n",
      "\t ['9908843292']\n",
      "Address:\n",
      "\t ['Address: hno- 3-7-749/A, Bank colony ']\n"
     ]
    }
   ],
   "source": [
    "#Resume Parsing\n",
    "import tika\n",
    "from tika import parser\n",
    "import re\n",
    "class ResumeParsing :\n",
    "    def ParseResume() :\n",
    "        tika.initVM()\n",
    "        parsed = parser.from_file('Sreelatha Resume.doc')\n",
    "        content = parsed[\"content\"]\n",
    "        print(\"Starting Resume Parsing\")\n",
    "        email = re.compile(r'[A-Z0-9._%+-]+@[A-Z0-9.-]+\\.[A-Z]{2,4}',re.IGNORECASE)\n",
    "        emailid = re.search(email, parsed[\"content\"])\n",
    "        print(\"Email id:\")\n",
    "        print('\\t',emailid)\n",
    "        phnno = re.findall(r'[+0-9]{10,13}', content)\n",
    "        print(\"Phone Number:\")\n",
    "        print('\\t',phnno)\n",
    "        address = re.findall(r'Address[\\w /,-: ]+[ .]', content)\n",
    "        print(\"Address:\")\n",
    "        print('\\t',address)\n",
    "                  \n",
    "ResumeParsing.ParseResume()"
   ]
  },
  {
   "cell_type": "code",
   "execution_count": null,
   "metadata": {
    "collapsed": true
   },
   "outputs": [],
   "source": []
  }
 ],
 "metadata": {
  "kernelspec": {
   "display_name": "Python 3",
   "language": "python",
   "name": "python3"
  },
  "language_info": {
   "codemirror_mode": {
    "name": "ipython",
    "version": 3
   },
   "file_extension": ".py",
   "mimetype": "text/x-python",
   "name": "python",
   "nbconvert_exporter": "python",
   "pygments_lexer": "ipython3",
   "version": "3.6.2"
  }
 },
 "nbformat": 4,
 "nbformat_minor": 2
}
